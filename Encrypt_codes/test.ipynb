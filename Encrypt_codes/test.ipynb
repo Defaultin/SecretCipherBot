{
 "cells": [
  {
   "cell_type": "code",
   "execution_count": null,
   "metadata": {},
   "outputs": [],
   "source": [
    "import encryption_tools as crypt\n",
    "import telebot\n",
    "import time\n",
    "\n",
    "\n",
    "def clean_message(text):\n",
    "        text, unsupported_symbols = list(text), []\n",
    "        for letter in text:\n",
    "            if letter not in crypt.alphabet.values():\n",
    "                text.remove(letter)\n",
    "                unsupported_symbols.append(letter)\n",
    "                print(unsupported_symbols)\n",
    "        return ''.join(text), unsupported_symbols\n",
    "    \n",
    "\n",
    "def run(text, key):\n",
    "    encoding_start_time = time.perf_counter()\n",
    "    message = crypt.post_encryption(text, key)\n",
    "    encoding_finish_time = time.perf_counter()\n",
    "    decoding_start_time = time.perf_counter()\n",
    "    result = crypt.post_decryption(message, key)\n",
    "    decoding_finish_time = time.perf_counter()\n",
    "    print(f\"Encrypted message: \\n{message}\\n\")\n",
    "    print(f\"Decrypted message: \\n{result}\\n\")\n",
    "    print(f\"Text length = {len(text)} symbols\")\n",
    "    print(f\"Encoding time = {encoding_finish_time - encoding_start_time} seconds\")\n",
    "    print(f\"Decoding time = {decoding_finish_time - decoding_start_time} seconds\")\n",
    "    print(f\"Encoding speed = {len(text)/(encoding_finish_time - encoding_start_time)} letter/seconds\")\n",
    "    print(f\"Decoding speed = {len(text)/(decoding_finish_time - decoding_start_time)} letter/seconds\")\n",
    "    \n",
    "\n",
    "def main():\n",
    "    with open('random_text.txt', 'r') as file:\n",
    "        text = file.read()\n",
    "    clean_text, unsupported_symbols = clean_message(text)\n",
    "    key = \"Библия\"\n",
    "    if unsupported_symbols:\n",
    "        print(f\"Warning! There are unsupported symbols in your message: {unsupported_symbols}. Do you want to encode this text?\")\n",
    "        choice = str(input()).lower()\n",
    "        if choice == 'yes':\n",
    "            run(clean_text, key)\n",
    "        else:\n",
    "            print(\"Send me another text.\")\n",
    "    else:\n",
    "        run(text, key)\n",
    "        \n",
    "\n",
    "\n",
    "if __name__ == \"__main__\":\n",
    "    main()"
   ]
  },
  {
   "cell_type": "code",
   "execution_count": null,
   "metadata": {},
   "outputs": [],
   "source": []
  }
 ],
 "metadata": {
  "kernelspec": {
   "display_name": "Python 3",
   "language": "python",
   "name": "python3"
  },
  "language_info": {
   "codemirror_mode": {
    "name": "ipython",
    "version": 3
   },
   "file_extension": ".py",
   "mimetype": "text/x-python",
   "name": "python",
   "nbconvert_exporter": "python",
   "pygments_lexer": "ipython3",
   "version": "3.7.3"
  }
 },
 "nbformat": 4,
 "nbformat_minor": 2
}
